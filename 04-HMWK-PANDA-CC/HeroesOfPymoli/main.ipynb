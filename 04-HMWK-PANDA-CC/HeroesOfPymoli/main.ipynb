{
 "cells": [
  {
   "cell_type": "markdown",
   "metadata": {},
   "source": [
    "### Heroes Of Pymoli Data Analysis\n",
    "* Of the 1163 active players, the vast majority are male (84%). There also exists, a smaller, but notable proportion of female players (14%).\n",
    "\n",
    "* Our peak age demographic falls between 20-24 (44.8%) with secondary groups falling between 15-19 (18.60%) and 25-29 (13.4%).  \n",
    "-----"
   ]
  },
  {
   "cell_type": "markdown",
   "metadata": {},
   "source": [
    "### Note\n",
    "* Instructions have been included for each segment. You do not have to follow them exactly, but they are included to help you think through the steps."
   ]
  },
  {
   "cell_type": "code",
   "execution_count": 20,
   "metadata": {
    "scrolled": true
   },
   "outputs": [
    {
     "data": {
      "text/html": [
       "<div>\n",
       "<style scoped>\n",
       "    .dataframe tbody tr th:only-of-type {\n",
       "        vertical-align: middle;\n",
       "    }\n",
       "\n",
       "    .dataframe tbody tr th {\n",
       "        vertical-align: top;\n",
       "    }\n",
       "\n",
       "    .dataframe thead th {\n",
       "        text-align: right;\n",
       "    }\n",
       "</style>\n",
       "<table border=\"1\" class=\"dataframe\">\n",
       "  <thead>\n",
       "    <tr style=\"text-align: right;\">\n",
       "      <th></th>\n",
       "      <th>Purchase ID</th>\n",
       "      <th>SN</th>\n",
       "      <th>Age</th>\n",
       "      <th>Gender</th>\n",
       "      <th>Item ID</th>\n",
       "      <th>Item Name</th>\n",
       "      <th>Price</th>\n",
       "    </tr>\n",
       "  </thead>\n",
       "  <tbody>\n",
       "    <tr>\n",
       "      <th>0</th>\n",
       "      <td>0</td>\n",
       "      <td>Lisim78</td>\n",
       "      <td>20</td>\n",
       "      <td>Male</td>\n",
       "      <td>108</td>\n",
       "      <td>Extraction, Quickblade Of Trembling Hands</td>\n",
       "      <td>3.53</td>\n",
       "    </tr>\n",
       "    <tr>\n",
       "      <th>1</th>\n",
       "      <td>1</td>\n",
       "      <td>Lisovynya38</td>\n",
       "      <td>40</td>\n",
       "      <td>Male</td>\n",
       "      <td>143</td>\n",
       "      <td>Frenzied Scimitar</td>\n",
       "      <td>1.56</td>\n",
       "    </tr>\n",
       "    <tr>\n",
       "      <th>2</th>\n",
       "      <td>2</td>\n",
       "      <td>Ithergue48</td>\n",
       "      <td>24</td>\n",
       "      <td>Male</td>\n",
       "      <td>92</td>\n",
       "      <td>Final Critic</td>\n",
       "      <td>4.88</td>\n",
       "    </tr>\n",
       "    <tr>\n",
       "      <th>3</th>\n",
       "      <td>3</td>\n",
       "      <td>Chamassasya86</td>\n",
       "      <td>24</td>\n",
       "      <td>Male</td>\n",
       "      <td>100</td>\n",
       "      <td>Blindscythe</td>\n",
       "      <td>3.27</td>\n",
       "    </tr>\n",
       "    <tr>\n",
       "      <th>4</th>\n",
       "      <td>4</td>\n",
       "      <td>Iskosia90</td>\n",
       "      <td>23</td>\n",
       "      <td>Male</td>\n",
       "      <td>131</td>\n",
       "      <td>Fury</td>\n",
       "      <td>1.44</td>\n",
       "    </tr>\n",
       "  </tbody>\n",
       "</table>\n",
       "</div>"
      ],
      "text/plain": [
       "   Purchase ID             SN  Age Gender  Item ID  \\\n",
       "0            0        Lisim78   20   Male      108   \n",
       "1            1    Lisovynya38   40   Male      143   \n",
       "2            2     Ithergue48   24   Male       92   \n",
       "3            3  Chamassasya86   24   Male      100   \n",
       "4            4      Iskosia90   23   Male      131   \n",
       "\n",
       "                                   Item Name  Price  \n",
       "0  Extraction, Quickblade Of Trembling Hands   3.53  \n",
       "1                          Frenzied Scimitar   1.56  \n",
       "2                               Final Critic   4.88  \n",
       "3                                Blindscythe   3.27  \n",
       "4                                       Fury   1.44  "
      ]
     },
     "execution_count": 20,
     "metadata": {},
     "output_type": "execute_result"
    }
   ],
   "source": [
    "# Dependencies and Setup\n",
    "import pandas as pd\n",
    "import numpy as np\n",
    "\n",
    "# File to Load \n",
    "file_to_load = \"Resources/purchase_data.csv\"\n",
    "\n",
    "# Read Purchasing File and store into Pandas data frame\n",
    "purchase_data_df = pd.read_csv(file_to_load, low_memory=False)   # Create (purchase_data_df)\n",
    "purchase_data_disp = pd.DataFrame(purchase_data_df)  # Create display \n",
    "purchase_data_disp.head() # Show top 5 rows of data\n"
   ]
  },
  {
   "cell_type": "code",
   "execution_count": 21,
   "metadata": {},
   "outputs": [],
   "source": [
    "# Look at actual data file\n",
    "# print(purchase_data_df) \n",
    "# print(type(purchase_data_df))  # Note data type and column"
   ]
  },
  {
   "cell_type": "markdown",
   "metadata": {},
   "source": [
    "## Player Count"
   ]
  },
  {
   "cell_type": "markdown",
   "metadata": {},
   "source": [
    "* Display the total number of players\n"
   ]
  },
  {
   "cell_type": "code",
   "execution_count": 22,
   "metadata": {},
   "outputs": [
    {
     "data": {
      "text/html": [
       "<div>\n",
       "<style scoped>\n",
       "    .dataframe tbody tr th:only-of-type {\n",
       "        vertical-align: middle;\n",
       "    }\n",
       "\n",
       "    .dataframe tbody tr th {\n",
       "        vertical-align: top;\n",
       "    }\n",
       "\n",
       "    .dataframe thead th {\n",
       "        text-align: right;\n",
       "    }\n",
       "</style>\n",
       "<table border=\"1\" class=\"dataframe\">\n",
       "  <thead>\n",
       "    <tr style=\"text-align: right;\">\n",
       "      <th></th>\n",
       "      <th>Total SN</th>\n",
       "    </tr>\n",
       "  </thead>\n",
       "  <tbody>\n",
       "    <tr>\n",
       "      <th>0</th>\n",
       "      <td>576</td>\n",
       "    </tr>\n",
       "  </tbody>\n",
       "</table>\n",
       "</div>"
      ],
      "text/plain": [
       "   Total SN\n",
       "0       576"
      ]
     },
     "execution_count": 22,
     "metadata": {},
     "output_type": "execute_result"
    }
   ],
   "source": [
    "# Get player data\n",
    "playercount = len(purchase_data_df[\"SN\"].unique()) # How many unique playernames\n",
    "\n",
    "# Show results\n",
    "playercount_disp = pd.DataFrame({\"Total SN\":[playercount]}) \n",
    "playercount_disp"
   ]
  },
  {
   "cell_type": "markdown",
   "metadata": {},
   "source": [
    "## Purchasing Analysis (Total)"
   ]
  },
  {
   "cell_type": "markdown",
   "metadata": {},
   "source": [
    "* Run basic calculations to obtain number of unique items, average price, etc.\n",
    "\n",
    "\n",
    "* Create a summary data frame to hold the results\n",
    "\n",
    "\n",
    "* Optional: give the displayed data cleaner formatting\n",
    "\n",
    "\n",
    "* Display the summary data frame\n"
   ]
  },
  {
   "cell_type": "code",
   "execution_count": 23,
   "metadata": {},
   "outputs": [
    {
     "data": {
      "text/html": [
       "<style  type=\"text/css\" >\n",
       "</style><table id=\"T_ee44cfc0_8d4a_11e9_ba9b_04ea56b42c6e\" ><thead>    <tr>        <th class=\"blank level0\" ></th>        <th class=\"col_heading level0 col0\" >Total Item ID </th>        <th class=\"col_heading level0 col1\" >Average_Price</th>        <th class=\"col_heading level0 col2\" >Total Purchase</th>        <th class=\"col_heading level0 col3\" >Total Revenue</th>    </tr></thead><tbody>\n",
       "                <tr>\n",
       "                        <th id=\"T_ee44cfc0_8d4a_11e9_ba9b_04ea56b42c6elevel0_row0\" class=\"row_heading level0 row0\" >0</th>\n",
       "                        <td id=\"T_ee44cfc0_8d4a_11e9_ba9b_04ea56b42c6erow0_col0\" class=\"data row0 col0\" >183</td>\n",
       "                        <td id=\"T_ee44cfc0_8d4a_11e9_ba9b_04ea56b42c6erow0_col1\" class=\"data row0 col1\" >3.05099</td>\n",
       "                        <td id=\"T_ee44cfc0_8d4a_11e9_ba9b_04ea56b42c6erow0_col2\" class=\"data row0 col2\" >780</td>\n",
       "                        <td id=\"T_ee44cfc0_8d4a_11e9_ba9b_04ea56b42c6erow0_col3\" class=\"data row0 col3\" >2379.77</td>\n",
       "            </tr>\n",
       "    </tbody></table>"
      ],
      "text/plain": [
       "<pandas.io.formats.style.Styler at 0x29fb3f36940>"
      ]
     },
     "execution_count": 23,
     "metadata": {},
     "output_type": "execute_result"
    }
   ],
   "source": [
    "# Calculate number from purchase data\n",
    "Item_ID_count = len(purchase_data_df['Item ID'].unique()) # Total Items\n",
    "Price_Avg = purchase_data_df['Price'].mean() # Avg Price per unique item\n",
    "Number_Purchase = len(purchase_data_df) # Number of purchase\n",
    "Total_Revenue = purchase_data_df['Price'].sum() # Total revenue\n",
    "\n",
    "# Show result in table\n",
    "summary_disp = pd.DataFrame({'Total Item ID ':[Item_ID_count], 'Average_Price': [Price_Avg], 'Total Purchase': [Number_Purchase], 'Total Revenue': [Total_Revenue]}).style.format({'Total Revenue':\"{:.2f}\"})\n",
    "summary_disp"
   ]
  },
  {
   "cell_type": "markdown",
   "metadata": {},
   "source": [
    "## Gender Demographics"
   ]
  },
  {
   "cell_type": "markdown",
   "metadata": {},
   "source": [
    "* Percentage and Count of Male Players\n",
    "\n",
    "\n",
    "* Percentage and Count of Female Players\n",
    "\n",
    "\n",
    "* Percentage and Count of Other / Non-Disclosed\n",
    "\n",
    "\n"
   ]
  },
  {
   "cell_type": "code",
   "execution_count": 24,
   "metadata": {},
   "outputs": [
    {
     "data": {
      "text/html": [
       "<style  type=\"text/css\" >\n",
       "</style><table id=\"T_ee465038_8d4a_11e9_9097_04ea56b42c6e\" ><thead>    <tr>        <th class=\"blank level0\" ></th>        <th class=\"col_heading level0 col0\" >count</th>        <th class=\"col_heading level0 col1\" >percent</th>    </tr></thead><tbody>\n",
       "                <tr>\n",
       "                        <th id=\"T_ee465038_8d4a_11e9_9097_04ea56b42c6elevel0_row0\" class=\"row_heading level0 row0\" >Male</th>\n",
       "                        <td id=\"T_ee465038_8d4a_11e9_9097_04ea56b42c6erow0_col0\" class=\"data row0 col0\" >652</td>\n",
       "                        <td id=\"T_ee465038_8d4a_11e9_9097_04ea56b42c6erow0_col1\" class=\"data row0 col1\" >83.59</td>\n",
       "            </tr>\n",
       "            <tr>\n",
       "                        <th id=\"T_ee465038_8d4a_11e9_9097_04ea56b42c6elevel0_row1\" class=\"row_heading level0 row1\" >Female</th>\n",
       "                        <td id=\"T_ee465038_8d4a_11e9_9097_04ea56b42c6erow1_col0\" class=\"data row1 col0\" >113</td>\n",
       "                        <td id=\"T_ee465038_8d4a_11e9_9097_04ea56b42c6erow1_col1\" class=\"data row1 col1\" >14.49</td>\n",
       "            </tr>\n",
       "            <tr>\n",
       "                        <th id=\"T_ee465038_8d4a_11e9_9097_04ea56b42c6elevel0_row2\" class=\"row_heading level0 row2\" >Other / Non-Disclosed</th>\n",
       "                        <td id=\"T_ee465038_8d4a_11e9_9097_04ea56b42c6erow2_col0\" class=\"data row2 col0\" >15</td>\n",
       "                        <td id=\"T_ee465038_8d4a_11e9_9097_04ea56b42c6erow2_col1\" class=\"data row2 col1\" >1.92</td>\n",
       "            </tr>\n",
       "    </tbody></table>"
      ],
      "text/plain": [
       "<pandas.io.formats.style.Styler at 0x29fb3f42390>"
      ]
     },
     "execution_count": 24,
     "metadata": {},
     "output_type": "execute_result"
    }
   ],
   "source": [
    "# Gender Demographics\n",
    "# Use gender count data in series \n",
    "gender_data = purchase_data_df[['Purchase ID', 'Gender']]\n",
    "gender_count = gender_data['Gender'].value_counts()\n",
    "gender_tot = gender_count.sum()\n",
    "percent = gender_count / gender_tot *100\n",
    "\n",
    "# Show results\n",
    "gender_result = pd.DataFrame({'count': gender_count, 'percent':percent})\n",
    "gender_result.index.name = None\n",
    "gender_result.sort_values(['count'], ascending = False).style.format({'percent':\"{:.2f}\"})"
   ]
  },
  {
   "cell_type": "markdown",
   "metadata": {},
   "source": [
    "\n",
    "## Purchasing Analysis (Gender)"
   ]
  },
  {
   "cell_type": "markdown",
   "metadata": {},
   "source": [
    "* Run basic calculations to obtain purchase count, avg. purchase price, avg. purchase total per person etc. by gender\n",
    "\n",
    "* Create a summary data frame to hold the results\n",
    "\n",
    "* Optional: give the displayed data cleaner formatting\n",
    "\n",
    "* Display the summary data frame"
   ]
  },
  {
   "cell_type": "code",
   "execution_count": 25,
   "metadata": {
    "scrolled": true
   },
   "outputs": [],
   "source": [
    "# Calculate series\n",
    "gender_data = purchase_data_df[['Purchase ID', 'Gender','Price','SN']]\n",
    "grouped_gender_data = gender_data.groupby(['Gender'])\n",
    "count = purchase_data_df['Gender'].value_counts()\n",
    "avg_price = grouped_gender_data['Price'].mean()\n",
    "price_total = grouped_gender_data['Price'].sum()\n",
    "# See result table at end"
   ]
  },
  {
   "cell_type": "code",
   "execution_count": 39,
   "metadata": {},
   "outputs": [
    {
     "name": "stdout",
     "output_type": "stream",
     "text": [
      "SN\n",
      "Adairialis76       2.280000\n",
      "Adastirin33        4.480000\n",
      "Aeda94             4.910000\n",
      "Aela59             4.320000\n",
      "Aelaria33          1.790000\n",
      "Aelastirin39       3.645000\n",
      "Aelidru27          1.090000\n",
      "Aelin32            2.993333\n",
      "Aelly27            3.395000\n",
      "Aellynun67         3.740000\n",
      "Aellyria80         3.080000\n",
      "Aelollo59          2.815000\n",
      "Aenarap34          2.960000\n",
      "Aeral43            4.400000\n",
      "Aeral68            4.000000\n",
      "Aeral97            4.800000\n",
      "Aeralria27         4.090000\n",
      "Aeralstical35      2.960000\n",
      "Aeri84             1.610000\n",
      "Aerillorin70       3.330000\n",
      "Aerithllora36      4.320000\n",
      "Aerithnucal56      4.400000\n",
      "Aerithnuphos61     4.910000\n",
      "Aerithriaphos45    1.560000\n",
      "Aerithriaphos46    2.180000\n",
      "Aesri53            1.760000\n",
      "Aesty53            1.955000\n",
      "Aestysu37          2.690000\n",
      "Aesur96            2.210000\n",
      "Aesurstilis64      1.030000\n",
      "                     ...   \n",
      "Undosia27          3.770000\n",
      "Undosian34         4.150000\n",
      "Undotesta33        4.740000\n",
      "Wailin72           2.730000\n",
      "Yadacal26          3.270000\n",
      "Yadaisuir65        4.090000\n",
      "Yadam35            2.480000\n",
      "Yadanu52           2.380000\n",
      "Yadaphos40         2.675000\n",
      "Yalae81            3.345000\n",
      "Yalaeria91         1.060000\n",
      "Yaliru88           3.030000\n",
      "Yalo85             3.650000\n",
      "Yalostiphos68      4.400000\n",
      "Yana46             3.550000\n",
      "Yarithllodeu72     3.750000\n",
      "Yarithrgue83       3.450000\n",
      "Yarithrin84        4.140000\n",
      "Yarithsurgue62     4.940000\n",
      "Yarolwen77         4.430000\n",
      "Yasrisu92          3.440000\n",
      "Yastyriaphos75     4.750000\n",
      "Yasur35            4.480000\n",
      "Yasur85            1.100000\n",
      "Yathecal72         3.460000\n",
      "Yathecal82         2.073333\n",
      "Yathedeu43         3.010000\n",
      "Yoishirrala98      4.580000\n",
      "Zhisrisu83         3.945000\n",
      "Zontibe81          2.676667\n",
      "Name: Price, Length: 576, dtype: float64\n",
      "                 Gender  Avg Price\n",
      "SN                                \n",
      "Adairialis76     Gender   2.280000\n",
      "Adastirin33      Gender   4.480000\n",
      "Aeda94           Gender   4.910000\n",
      "Aela59           Gender   4.320000\n",
      "Aelaria33        Gender   1.790000\n",
      "Aelastirin39     Gender   3.645000\n",
      "Aelidru27        Gender   1.090000\n",
      "Aelin32          Gender   2.993333\n",
      "Aelly27          Gender   3.395000\n",
      "Aellynun67       Gender   3.740000\n",
      "Aellyria80       Gender   3.080000\n",
      "Aelollo59        Gender   2.815000\n",
      "Aenarap34        Gender   2.960000\n",
      "Aeral43          Gender   4.400000\n",
      "Aeral68          Gender   4.000000\n",
      "Aeral97          Gender   4.800000\n",
      "Aeralria27       Gender   4.090000\n",
      "Aeralstical35    Gender   2.960000\n",
      "Aeri84           Gender   1.610000\n",
      "Aerillorin70     Gender   3.330000\n",
      "Aerithllora36    Gender   4.320000\n",
      "Aerithnucal56    Gender   4.400000\n",
      "Aerithnuphos61   Gender   4.910000\n",
      "Aerithriaphos45  Gender   1.560000\n",
      "Aerithriaphos46  Gender   2.180000\n",
      "Aesri53          Gender   1.760000\n",
      "Aesty53          Gender   1.955000\n",
      "Aestysu37        Gender   2.690000\n",
      "Aesur96          Gender   2.210000\n",
      "Aesurstilis64    Gender   1.030000\n",
      "...                 ...        ...\n",
      "Undosia27        Gender   3.770000\n",
      "Undosian34       Gender   4.150000\n",
      "Undotesta33      Gender   4.740000\n",
      "Wailin72         Gender   2.730000\n",
      "Yadacal26        Gender   3.270000\n",
      "Yadaisuir65      Gender   4.090000\n",
      "Yadam35          Gender   2.480000\n",
      "Yadanu52         Gender   2.380000\n",
      "Yadaphos40       Gender   2.675000\n",
      "Yalae81          Gender   3.345000\n",
      "Yalaeria91       Gender   1.060000\n",
      "Yaliru88         Gender   3.030000\n",
      "Yalo85           Gender   3.650000\n",
      "Yalostiphos68    Gender   4.400000\n",
      "Yana46           Gender   3.550000\n",
      "Yarithllodeu72   Gender   3.750000\n",
      "Yarithrgue83     Gender   3.450000\n",
      "Yarithrin84      Gender   4.140000\n",
      "Yarithsurgue62   Gender   4.940000\n",
      "Yarolwen77       Gender   4.430000\n",
      "Yasrisu92        Gender   3.440000\n",
      "Yastyriaphos75   Gender   4.750000\n",
      "Yasur35          Gender   4.480000\n",
      "Yasur85          Gender   1.100000\n",
      "Yathecal72       Gender   3.460000\n",
      "Yathecal82       Gender   2.073333\n",
      "Yathedeu43       Gender   3.010000\n",
      "Yoishirrala98    Gender   4.580000\n",
      "Zhisrisu83       Gender   3.945000\n",
      "Zontibe81        Gender   2.676667\n",
      "\n",
      "[576 rows x 2 columns]\n"
     ]
    },
    {
     "data": {
      "text/plain": [
       "Gender\n",
       "Female                   3.225873\n",
       "Male                     3.036607\n",
       "Other / Non-Disclosed    3.343478\n",
       "Name: Price, dtype: float64"
      ]
     },
     "execution_count": 39,
     "metadata": {},
     "output_type": "execute_result"
    }
   ],
   "source": [
    "# Create DataFrames\n",
    "SN_df = purchase_data_df[['SN','Price']]\n",
    "Gen_df = purchase_data_df[['Gender','SN']]\n",
    "\n",
    "# Merge two dataframes using an inner join\n",
    "merge_table = pd.merge(SN_df, Gen_df, how='right', on='SN')\n",
    "merge_table1 = merge_table.groupby(['SN'])\n",
    "SN_price = merge_table1['Price'].mean()\n",
    "print(SN_price)\n",
    "merge_table2_df = pd.DataFrame({'Gender': 'Gender', 'Avg Price':SN_price})\n",
    "print(merge_table2_df)\n",
    "SN_price_gender = merge_table2_df.groupby(['Gender'])\n",
    "merge_table3 \n",
    "# I think I am right ...(please check the template with 4.xxx mean values)\n",
    "# See result table at end"
   ]
  },
  {
   "cell_type": "code",
   "execution_count": 40,
   "metadata": {
    "scrolled": true
   },
   "outputs": [
    {
     "data": {
      "text/html": [
       "<div>\n",
       "<style scoped>\n",
       "    .dataframe tbody tr th:only-of-type {\n",
       "        vertical-align: middle;\n",
       "    }\n",
       "\n",
       "    .dataframe tbody tr th {\n",
       "        vertical-align: top;\n",
       "    }\n",
       "\n",
       "    .dataframe thead th {\n",
       "        text-align: right;\n",
       "    }\n",
       "</style>\n",
       "<table border=\"1\" class=\"dataframe\">\n",
       "  <thead>\n",
       "    <tr style=\"text-align: right;\">\n",
       "      <th></th>\n",
       "      <th>Purchases</th>\n",
       "      <th>Average Price</th>\n",
       "      <th>Total Price</th>\n",
       "      <th>Price per Person</th>\n",
       "    </tr>\n",
       "  </thead>\n",
       "  <tbody>\n",
       "    <tr>\n",
       "      <th>Female</th>\n",
       "      <td>113</td>\n",
       "      <td>3.203009</td>\n",
       "      <td>361.94</td>\n",
       "      <td>3.225873</td>\n",
       "    </tr>\n",
       "    <tr>\n",
       "      <th>Male</th>\n",
       "      <td>652</td>\n",
       "      <td>3.017853</td>\n",
       "      <td>1967.64</td>\n",
       "      <td>3.036607</td>\n",
       "    </tr>\n",
       "    <tr>\n",
       "      <th>Other / Non-Disclosed</th>\n",
       "      <td>15</td>\n",
       "      <td>3.346000</td>\n",
       "      <td>50.19</td>\n",
       "      <td>3.343478</td>\n",
       "    </tr>\n",
       "  </tbody>\n",
       "</table>\n",
       "</div>"
      ],
      "text/plain": [
       "                       Purchases  Average Price  Total Price  Price per Person\n",
       "Female                       113       3.203009       361.94          3.225873\n",
       "Male                         652       3.017853      1967.64          3.036607\n",
       "Other / Non-Disclosed         15       3.346000        50.19          3.343478"
      ]
     },
     "execution_count": 40,
     "metadata": {},
     "output_type": "execute_result"
    }
   ],
   "source": [
    "# Show result \n",
    "gender_result = pd.DataFrame({'Purchases': count, 'Average Price': avg_price, 'Total Price': price_total, 'Price per Person':merge_table3})\n",
    "# gender_result1.sort_values(['count'], ascending = False).style.format({'avg_price':\"{:.2f}\"})\n",
    "gender_result"
   ]
  },
  {
   "cell_type": "markdown",
   "metadata": {},
   "source": [
    "## Age Demographics"
   ]
  },
  {
   "cell_type": "markdown",
   "metadata": {},
   "source": [
    "* Establish bins for ages\n",
    "\n",
    "\n",
    "* Categorize the existing players using the age bins. Hint: use pd.cut()\n",
    "\n",
    "\n",
    "* Calculate the numbers and percentages by age group\n",
    "\n",
    "\n",
    "* Create a summary data frame to hold the results\n",
    "\n",
    "\n",
    "* Optional: round the percentage column to two decimal points\n",
    "\n",
    "\n",
    "* Display Age Demographics Table\n"
   ]
  },
  {
   "cell_type": "code",
   "execution_count": null,
   "metadata": {},
   "outputs": [],
   "source": [
    "age_data = purchase_data_df[['SN','Age','Purchase ID','Price']]\n",
    "\n",
    "# Create the bins\n",
    "age_bins = [0, 9, 13, 17, 21, 25, 29, 33, 37, 40, 80]\n",
    "\n",
    "# Create the names for the four bins\n",
    "group_names = ['<10', '10-13', '14-17', '18-21', '22-25', '26-29', '30-33', '34-37', '38-40', '>40']\n",
    "\n",
    "# Show only the result of cut without the original table\n",
    "age_cut = pd.cut(age_data['Age'], age_bins, labels = group_names)\n",
    "age_cut.columns = ['ID', 'Age Bin']\n",
    "age_cut\n",
    "\n",
    "# Create GroupBy object\n",
    "#age_bin_data = age_cut.groupby(['Age Bin']) \n",
    "age_data = purchase_data_df[['SN','Age','Purchase ID','Price']]\n",
    "\n",
    "# Create the bins\n",
    "age_bins = [0, 9, 13, 17, 21, 25, 29, 33, 37, 40, 80]\n",
    "\n",
    "# Create the names for the four bins\n",
    "group_names = ['<10', '10-13', '14-17', '18-21', '22-25', '26-29', '30-33', '34-37', '38-40', '>40']\n",
    "\n",
    "# Show only the result of cut without the original table\n",
    "age_cut = pd.cut(age_data['Age'], age_bins, labels = group_names)\n",
    "age_cut.columns = ['ID', 'Age Bin']\n",
    "age_cut\n",
    "\n",
    "# Create GroupBy object\n",
    "# age_bin_data = age_cut.groupby(['Age Bin'])\n",
    "age_data = purchase_data_df[['SN','Age','Purchase ID','Price']]\n",
    "\n",
    "# Create the bins\n",
    "age_bins = [0, 9, 13, 17, 21, 25, 29, 33, 37, 40, 80]\n",
    "\n",
    "# Create the names for the four bins\n",
    "group_names = ['<10', '10-13', '14-17', '18-21', '22-25', '26-29', '30-33', '34-37', '38-40', '>40']\n",
    "\n",
    "# Show only the result of cut without the original table\n",
    "age_cut = pd.cut(age_data['Age'], age_bins, labels = group_names)\n",
    "age_cut.columns = ['ID', 'Age Bin']\n",
    "age_cut\n",
    "\n",
    "# Create GroupBy object\n",
    "#age_bin_data = age_cut.groupby(['Age Bin'])\n",
    "#age_bin_data\n",
    "\n",
    "# Create a dataframe from the count of the Age column\n",
    "# age_bin_df = pd.DataFrame(age_bin_data['Age Bin'].count())\n",
    "\n",
    "# Rename Total column and Add Percentage column\n",
    "# age_bin_df.columns = ['Total Players']\n",
    "# age_bin_df[\"Percentage\"] = [round(((x/total_players)*100),2) for x in age_binned_df[\"Total Players\"]]\n",
    "# print(age_bin_df)\n"
   ]
  },
  {
   "cell_type": "markdown",
   "metadata": {},
   "source": [
    "## Purchasing Analysis (Age)"
   ]
  },
  {
   "cell_type": "markdown",
   "metadata": {},
   "source": [
    "* Bin the purchase_data data frame by age\n",
    "\n",
    "\n",
    "* Run basic calculations to obtain purchase count, avg. purchase price, avg. purchase total per person etc. in the table below\n",
    "\n",
    "\n",
    "* Create a summary data frame to hold the results\n",
    "\n",
    "\n",
    "* Optional: give the displayed data cleaner formatting\n",
    "\n",
    "\n",
    "* Display the summary data frame"
   ]
  },
  {
   "cell_type": "code",
   "execution_count": null,
   "metadata": {},
   "outputs": [],
   "source": [
    "# still working on it"
   ]
  },
  {
   "cell_type": "markdown",
   "metadata": {},
   "source": [
    "## Top Spenders"
   ]
  },
  {
   "cell_type": "markdown",
   "metadata": {},
   "source": [
    "* Run basic calculations to obtain the results in the table below\n",
    "\n",
    "\n",
    "* Create a summary data frame to hold the results\n",
    "\n",
    "\n",
    "* Sort the total purchase value column in descending order\n",
    "\n",
    "\n",
    "* Optional: give the displayed data cleaner formatting\n",
    "\n",
    "\n",
    "* Display a preview of the summary data frame\n",
    "\n"
   ]
  },
  {
   "cell_type": "code",
   "execution_count": null,
   "metadata": {},
   "outputs": [],
   "source": [
    "# Group by Screenname \n",
    "SN_data = purchase_data_df.groupby([\"SN\"])\n",
    "\n",
    "# Find the sum of the price column per screenname\n",
    "user_spent = pd.DataFrame(SN_data[\"Price\"].sum())\n",
    "user_count = pd.DataFrame(SN_data[\"SN\"].count())\n",
    "\n",
    "user_spent.columns = [\"Total Spent\"]\n",
    "user_count.columns = [\"Total Purchases\"]\n",
    "\n",
    "user_spent.reset_index(inplace=True)\n",
    "user_count.reset_index(inplace=True)\n",
    "\n",
    "# Merge the two tables\n",
    "top_five = pd.merge(user_spent,user_count,on=\"SN\")\n",
    "top_five = top_five.sort_values(\"Total Spent\",ascending=False) #sort\n",
    "top_five = top_five.head()\n",
    "\n",
    "# Add a column for Average Purchase\n",
    "top_five[\"Average Purchase\"] = round((top_five[\"Total Spent\"] / top_five[\"Total Purchases\"]),2)\n",
    "\n",
    "# Reorder columns, reset index\n",
    "top5_spenders = top_five[[\"SN\",\"Total Purchases\",\"Average Purchase\",\"Total Spent\"]]\n",
    "top5_spenders.reset_index(inplace=True,drop=True)\n",
    "\n",
    "top5_spenders"
   ]
  },
  {
   "cell_type": "markdown",
   "metadata": {},
   "source": [
    "## Most Popular Items"
   ]
  },
  {
   "cell_type": "markdown",
   "metadata": {},
   "source": [
    "* Retrieve the Item ID, Item Name, and Item Price columns\n",
    "\n",
    "\n",
    "* Group by Item ID and Item Name. Perform calculations to obtain purchase count, item price, and total purchase value\n",
    "\n",
    "\n",
    "* Create a summary data frame to hold the results\n",
    "\n",
    "\n",
    "* Sort the purchase count column in descending order\n",
    "\n",
    "\n",
    "* Optional: give the displayed data cleaner formatting\n",
    "\n",
    "\n",
    "* Display a preview of the summary data frame\n",
    "\n"
   ]
  },
  {
   "cell_type": "code",
   "execution_count": null,
   "metadata": {},
   "outputs": [],
   "source": [
    "# Group by Item Name\n",
    "item_data = purchase_data_df.groupby([\"Item Name\"])\n",
    "\n",
    "# Create dfs with desired metrics to merge together\n",
    "# Count by Item ID to get Number Sold\n",
    "number_sold = pd.DataFrame(item_data[\"Item ID\"].count())\n",
    "number_sold.columns = [\"Number Sold\"]\n",
    "number_sold.reset_index(inplace=True)\n",
    "\n",
    "# Take the average of the price column for Item Price\n",
    "# (Some items are sold at different prices)\n",
    "item_price = pd.DataFrame(round(item_data[\"Price\"].mean(),2))\n",
    "item_price.columns = [\"Price (Avg)\"]\n",
    "item_price.reset_index(inplace=True)\n",
    "\n",
    "# Take the sum of the Price column for the total revenue per item\n",
    "total_value = pd.DataFrame(item_data[\"Price\"].sum())\n",
    "total_value.columns = [\"Total Value\"]\n",
    "total_value.reset_index(inplace=True)\n",
    "\n",
    "# Take the max of the Item ID column to pull the Item ID\n",
    "item_id = pd.DataFrame(item_data[\"Item ID\"].max())\n",
    "item_id.reset_index(inplace=True)\n",
    "\n",
    "# Merge the dfs together\n",
    "merged_item_data = pd.merge(number_sold,item_price,on=\"Item Name\")\n",
    "merged_item_data = pd.merge(merged_item_data,total_value,on=\"Item Name\")\n",
    "merged_item_data = pd.merge(merged_item_data,item_id,on=\"Item Name\")\n",
    "\n",
    "# Reorder columns\n",
    "merged_item_data = merged_item_data[['Item ID', 'Item Name', 'Number Sold', 'Price (Avg)', 'Total Value']]\n",
    "\n",
    "# Sort by Number Sold to find most popular items\n",
    "top5_items = merged_item_data.sort_values(\"Number Sold\",ascending=False)\n",
    "\n",
    "# Cut to Top Five, reset index\n",
    "top5_items = top5_items.head()\n",
    "top5_items.reset_index(inplace=True,drop=True)\n",
    "top5_items"
   ]
  },
  {
   "cell_type": "markdown",
   "metadata": {},
   "source": [
    "## Most Profitable Items"
   ]
  },
  {
   "cell_type": "markdown",
   "metadata": {},
   "source": [
    "* Sort the above table by total purchase value in descending order\n",
    "\n",
    "\n",
    "* Optional: give the displayed data cleaner formatting\n",
    "\n",
    "\n",
    "* Display a preview of the data frame\n",
    "\n"
   ]
  },
  {
   "cell_type": "code",
   "execution_count": null,
   "metadata": {
    "scrolled": true
   },
   "outputs": [],
   "source": [
    "# Re-sort previous df by Total Value to get most profitable games\n",
    "top5_profits = merged_item_data.sort_values(\"Total Value\",ascending=False)\n",
    "\n",
    "# Cut to Top Five\n",
    "top5_profits = top5_profits.head()\n",
    "\n",
    "top5_profits"
   ]
  },
  {
   "cell_type": "code",
   "execution_count": null,
   "metadata": {},
   "outputs": [],
   "source": []
  }
 ],
 "metadata": {
  "anaconda-cloud": {},
  "kernel_info": {
   "name": "python3"
  },
  "kernelspec": {
   "display_name": "Python 3",
   "language": "python",
   "name": "python3"
  },
  "language_info": {
   "codemirror_mode": {
    "name": "ipython",
    "version": 3
   },
   "file_extension": ".py",
   "mimetype": "text/x-python",
   "name": "python",
   "nbconvert_exporter": "python",
   "pygments_lexer": "ipython3",
   "version": "3.7.3"
  },
  "nteract": {
   "version": "0.2.0"
  }
 },
 "nbformat": 4,
 "nbformat_minor": 2
}
