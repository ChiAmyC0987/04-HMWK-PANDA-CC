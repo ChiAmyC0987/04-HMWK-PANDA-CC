{
 "cells": [
  {
   "cell_type": "markdown",
   "metadata": {},
   "source": [
    "### Heroes Of Pymoli Data Analysis\n",
    "* Of the 1163 active players, the vast majority are male (84%). There also exists, a smaller, but notable proportion of female players (14%).\n",
    "\n",
    "* Our peak age demographic falls between 20-24 (44.8%) with secondary groups falling between 15-19 (18.60%) and 25-29 (13.4%).  \n",
    "-----"
   ]
  },
  {
   "cell_type": "markdown",
   "metadata": {},
   "source": [
    "### Note\n",
    "* Instructions have been included for each segment. You do not have to follow them exactly, but they are included to help you think through the steps."
   ]
  },
  {
   "cell_type": "code",
   "execution_count": 144,
   "metadata": {
    "scrolled": true
   },
   "outputs": [
    {
     "data": {
      "text/html": [
       "<div>\n",
       "<style scoped>\n",
       "    .dataframe tbody tr th:only-of-type {\n",
       "        vertical-align: middle;\n",
       "    }\n",
       "\n",
       "    .dataframe tbody tr th {\n",
       "        vertical-align: top;\n",
       "    }\n",
       "\n",
       "    .dataframe thead th {\n",
       "        text-align: right;\n",
       "    }\n",
       "</style>\n",
       "<table border=\"1\" class=\"dataframe\">\n",
       "  <thead>\n",
       "    <tr style=\"text-align: right;\">\n",
       "      <th></th>\n",
       "      <th>Purchase ID</th>\n",
       "      <th>SN</th>\n",
       "      <th>Age</th>\n",
       "      <th>Gender</th>\n",
       "      <th>Item ID</th>\n",
       "      <th>Item Name</th>\n",
       "      <th>Price</th>\n",
       "    </tr>\n",
       "  </thead>\n",
       "  <tbody>\n",
       "    <tr>\n",
       "      <th>0</th>\n",
       "      <td>0</td>\n",
       "      <td>Lisim78</td>\n",
       "      <td>20</td>\n",
       "      <td>Male</td>\n",
       "      <td>108</td>\n",
       "      <td>Extraction, Quickblade Of Trembling Hands</td>\n",
       "      <td>3.53</td>\n",
       "    </tr>\n",
       "    <tr>\n",
       "      <th>1</th>\n",
       "      <td>1</td>\n",
       "      <td>Lisovynya38</td>\n",
       "      <td>40</td>\n",
       "      <td>Male</td>\n",
       "      <td>143</td>\n",
       "      <td>Frenzied Scimitar</td>\n",
       "      <td>1.56</td>\n",
       "    </tr>\n",
       "    <tr>\n",
       "      <th>2</th>\n",
       "      <td>2</td>\n",
       "      <td>Ithergue48</td>\n",
       "      <td>24</td>\n",
       "      <td>Male</td>\n",
       "      <td>92</td>\n",
       "      <td>Final Critic</td>\n",
       "      <td>4.88</td>\n",
       "    </tr>\n",
       "    <tr>\n",
       "      <th>3</th>\n",
       "      <td>3</td>\n",
       "      <td>Chamassasya86</td>\n",
       "      <td>24</td>\n",
       "      <td>Male</td>\n",
       "      <td>100</td>\n",
       "      <td>Blindscythe</td>\n",
       "      <td>3.27</td>\n",
       "    </tr>\n",
       "    <tr>\n",
       "      <th>4</th>\n",
       "      <td>4</td>\n",
       "      <td>Iskosia90</td>\n",
       "      <td>23</td>\n",
       "      <td>Male</td>\n",
       "      <td>131</td>\n",
       "      <td>Fury</td>\n",
       "      <td>1.44</td>\n",
       "    </tr>\n",
       "  </tbody>\n",
       "</table>\n",
       "</div>"
      ],
      "text/plain": [
       "   Purchase ID             SN  Age Gender  Item ID  \\\n",
       "0            0        Lisim78   20   Male      108   \n",
       "1            1    Lisovynya38   40   Male      143   \n",
       "2            2     Ithergue48   24   Male       92   \n",
       "3            3  Chamassasya86   24   Male      100   \n",
       "4            4      Iskosia90   23   Male      131   \n",
       "\n",
       "                                   Item Name  Price  \n",
       "0  Extraction, Quickblade Of Trembling Hands   3.53  \n",
       "1                          Frenzied Scimitar   1.56  \n",
       "2                               Final Critic   4.88  \n",
       "3                                Blindscythe   3.27  \n",
       "4                                       Fury   1.44  "
      ]
     },
     "execution_count": 144,
     "metadata": {},
     "output_type": "execute_result"
    }
   ],
   "source": [
    "# Dependencies and Setup\n",
    "import pandas as pd\n",
    "import numpy as np\n",
    "\n",
    "# File to Load \n",
    "file_to_load = \"Resources/purchase_data.csv\"\n",
    "\n",
    "# Read Purchasing File and store into Pandas data frame\n",
    "purchase_data_df = pd.read_csv(file_to_load, low_memory=False)   # Create (purchase_data_df)\n",
    "purchase_data_disp = pd.DataFrame(purchase_data_df)  # Create display \n",
    "purchase_data_disp.head() # Show top 5 rows of data\n"
   ]
  },
  {
   "cell_type": "code",
   "execution_count": 145,
   "metadata": {},
   "outputs": [],
   "source": [
    "# Look at actual data file\n",
    "# print(purchase_data_df) \n",
    "# print(type(purchase_data_df))  # Note data type and column"
   ]
  },
  {
   "cell_type": "markdown",
   "metadata": {},
   "source": [
    "## Player Count"
   ]
  },
  {
   "cell_type": "markdown",
   "metadata": {},
   "source": [
    "* Display the total number of players\n"
   ]
  },
  {
   "cell_type": "code",
   "execution_count": 146,
   "metadata": {},
   "outputs": [
    {
     "data": {
      "text/html": [
       "<div>\n",
       "<style scoped>\n",
       "    .dataframe tbody tr th:only-of-type {\n",
       "        vertical-align: middle;\n",
       "    }\n",
       "\n",
       "    .dataframe tbody tr th {\n",
       "        vertical-align: top;\n",
       "    }\n",
       "\n",
       "    .dataframe thead th {\n",
       "        text-align: right;\n",
       "    }\n",
       "</style>\n",
       "<table border=\"1\" class=\"dataframe\">\n",
       "  <thead>\n",
       "    <tr style=\"text-align: right;\">\n",
       "      <th></th>\n",
       "      <th>Total SN</th>\n",
       "    </tr>\n",
       "  </thead>\n",
       "  <tbody>\n",
       "    <tr>\n",
       "      <th>0</th>\n",
       "      <td>576</td>\n",
       "    </tr>\n",
       "  </tbody>\n",
       "</table>\n",
       "</div>"
      ],
      "text/plain": [
       "   Total SN\n",
       "0       576"
      ]
     },
     "execution_count": 146,
     "metadata": {},
     "output_type": "execute_result"
    }
   ],
   "source": [
    "# Get player data\n",
    "playercount = len(purchase_data_df[\"SN\"].unique()) # How many unique playernames\n",
    "\n",
    "# Show results\n",
    "playercount_disp = pd.DataFrame({\"Total SN\":[playercount]}) \n",
    "playercount_disp"
   ]
  },
  {
   "cell_type": "markdown",
   "metadata": {},
   "source": [
    "## Purchasing Analysis (Total)"
   ]
  },
  {
   "cell_type": "markdown",
   "metadata": {},
   "source": [
    "* Run basic calculations to obtain number of unique items, average price, etc.\n",
    "\n",
    "\n",
    "* Create a summary data frame to hold the results\n",
    "\n",
    "\n",
    "* Optional: give the displayed data cleaner formatting\n",
    "\n",
    "\n",
    "* Display the summary data frame\n"
   ]
  },
  {
   "cell_type": "code",
   "execution_count": 147,
   "metadata": {},
   "outputs": [
    {
     "data": {
      "text/html": [
       "<style  type=\"text/css\" >\n",
       "</style><table id=\"T_ac4a8c34_8c10_11e9_bc52_04ea56b42c6e\" ><thead>    <tr>        <th class=\"blank level0\" ></th>        <th class=\"col_heading level0 col0\" >Total Item ID </th>        <th class=\"col_heading level0 col1\" >Average_Price</th>        <th class=\"col_heading level0 col2\" >Total Purchase</th>        <th class=\"col_heading level0 col3\" >Total Revenue</th>    </tr></thead><tbody>\n",
       "                <tr>\n",
       "                        <th id=\"T_ac4a8c34_8c10_11e9_bc52_04ea56b42c6elevel0_row0\" class=\"row_heading level0 row0\" >0</th>\n",
       "                        <td id=\"T_ac4a8c34_8c10_11e9_bc52_04ea56b42c6erow0_col0\" class=\"data row0 col0\" >183</td>\n",
       "                        <td id=\"T_ac4a8c34_8c10_11e9_bc52_04ea56b42c6erow0_col1\" class=\"data row0 col1\" >3.05099</td>\n",
       "                        <td id=\"T_ac4a8c34_8c10_11e9_bc52_04ea56b42c6erow0_col2\" class=\"data row0 col2\" >780</td>\n",
       "                        <td id=\"T_ac4a8c34_8c10_11e9_bc52_04ea56b42c6erow0_col3\" class=\"data row0 col3\" >2379.77</td>\n",
       "            </tr>\n",
       "    </tbody></table>"
      ],
      "text/plain": [
       "<pandas.io.formats.style.Styler at 0x1e07a74cef0>"
      ]
     },
     "execution_count": 147,
     "metadata": {},
     "output_type": "execute_result"
    }
   ],
   "source": [
    "# Calculate number from purchase data\n",
    "Item_ID_count = len(purchase_data_df['Item ID'].unique()) # Total Items\n",
    "Price_Avg = purchase_data_df['Price'].mean() # Avg Price per unique item\n",
    "Number_Purchase = len(purchase_data_df) # Number of purchase\n",
    "Total_Revenue = purchase_data_df['Price'].sum() # Total revenue\n",
    "\n",
    "# Show result in table\n",
    "summary_disp = pd.DataFrame({'Total Item ID ':[Item_ID_count], 'Average_Price': [Price_Avg], 'Total Purchase': [Number_Purchase], 'Total Revenue': [Total_Revenue]}).style.format({'Total Revenue':\"{:.2f}\"})\n",
    "summary_disp"
   ]
  },
  {
   "cell_type": "markdown",
   "metadata": {},
   "source": [
    "## Gender Demographics"
   ]
  },
  {
   "cell_type": "markdown",
   "metadata": {},
   "source": [
    "* Percentage and Count of Male Players\n",
    "\n",
    "\n",
    "* Percentage and Count of Female Players\n",
    "\n",
    "\n",
    "* Percentage and Count of Other / Non-Disclosed\n",
    "\n",
    "\n"
   ]
  },
  {
   "cell_type": "code",
   "execution_count": 148,
   "metadata": {},
   "outputs": [
    {
     "data": {
      "text/html": [
       "<style  type=\"text/css\" >\n",
       "</style><table id=\"T_ac4c708a_8c10_11e9_8b4d_04ea56b42c6e\" ><thead>    <tr>        <th class=\"blank level0\" ></th>        <th class=\"col_heading level0 col0\" >count</th>        <th class=\"col_heading level0 col1\" >percent</th>    </tr></thead><tbody>\n",
       "                <tr>\n",
       "                        <th id=\"T_ac4c708a_8c10_11e9_8b4d_04ea56b42c6elevel0_row0\" class=\"row_heading level0 row0\" >Male</th>\n",
       "                        <td id=\"T_ac4c708a_8c10_11e9_8b4d_04ea56b42c6erow0_col0\" class=\"data row0 col0\" >652</td>\n",
       "                        <td id=\"T_ac4c708a_8c10_11e9_8b4d_04ea56b42c6erow0_col1\" class=\"data row0 col1\" >83.59</td>\n",
       "            </tr>\n",
       "            <tr>\n",
       "                        <th id=\"T_ac4c708a_8c10_11e9_8b4d_04ea56b42c6elevel0_row1\" class=\"row_heading level0 row1\" >Female</th>\n",
       "                        <td id=\"T_ac4c708a_8c10_11e9_8b4d_04ea56b42c6erow1_col0\" class=\"data row1 col0\" >113</td>\n",
       "                        <td id=\"T_ac4c708a_8c10_11e9_8b4d_04ea56b42c6erow1_col1\" class=\"data row1 col1\" >14.49</td>\n",
       "            </tr>\n",
       "            <tr>\n",
       "                        <th id=\"T_ac4c708a_8c10_11e9_8b4d_04ea56b42c6elevel0_row2\" class=\"row_heading level0 row2\" >Other / Non-Disclosed</th>\n",
       "                        <td id=\"T_ac4c708a_8c10_11e9_8b4d_04ea56b42c6erow2_col0\" class=\"data row2 col0\" >15</td>\n",
       "                        <td id=\"T_ac4c708a_8c10_11e9_8b4d_04ea56b42c6erow2_col1\" class=\"data row2 col1\" >1.92</td>\n",
       "            </tr>\n",
       "    </tbody></table>"
      ],
      "text/plain": [
       "<pandas.io.formats.style.Styler at 0x1e07a73b3c8>"
      ]
     },
     "execution_count": 148,
     "metadata": {},
     "output_type": "execute_result"
    }
   ],
   "source": [
    "# Gender Demographics\n",
    "# Use gender count data in series \n",
    "gender_data = purchase_data_df[['Purchase ID', 'Gender']]\n",
    "gender_count = gender_data['Gender'].value_counts()\n",
    "gender_tot = gender_count.sum()\n",
    "percent = gender_count / gender_tot *100\n",
    "\n",
    "# Show results\n",
    "gender_result = pd.DataFrame({'count': gender_count, 'percent':percent})\n",
    "gender_result.index.name = None\n",
    "gender_result.sort_values(['count'], ascending = False).style.format({'percent':\"{:.2f}\"})"
   ]
  },
  {
   "cell_type": "markdown",
   "metadata": {},
   "source": [
    "\n",
    "## Purchasing Analysis (Gender)"
   ]
  },
  {
   "cell_type": "markdown",
   "metadata": {},
   "source": [
    "* Run basic calculations to obtain purchase count, avg. purchase price, avg. purchase total per person etc. by gender\n",
    "\n",
    "* Create a summary data frame to hold the results\n",
    "\n",
    "* Optional: give the displayed data cleaner formatting\n",
    "\n",
    "* Display the summary data frame"
   ]
  },
  {
   "cell_type": "code",
   "execution_count": 149,
   "metadata": {
    "scrolled": true
   },
   "outputs": [],
   "source": [
    "# Calculate series\n",
    "gender_df = purchase_data_df[['Purchase ID','Gender','Price','SN']]\n",
    "grouped_gender_df = gender_df.groupby(['Gender'])\n",
    "count = purchase_data_df['Gender'].value_counts()\n",
    "avg_price = grouped_gender_df['Price'].mean()\n",
    "price_total = grouped_gender_df['Price'].sum()\n",
    "# See result table at end"
   ]
  },
  {
   "cell_type": "code",
   "execution_count": 150,
   "metadata": {},
   "outputs": [],
   "source": [
    "# Create DataFrames\n",
    "SN_df = purchase_data_df[['SN','Price']]\n",
    "Gen_df = purchase_data_df[['Gender','SN']]\n",
    "\n",
    "# Merge two dataframes using an inner join\n",
    "merge_table = pd.merge(SN_df, Gen_df, how='right', on='SN')\n",
    "\n",
    "##### HELP  Stuck can't group into average per Gender\n",
    "# SN_Gen = merge_table.groupby['Gender']\n",
    "# SN_price = SN_GEN['Price'].mean()"
   ]
  },
  {
   "cell_type": "code",
   "execution_count": 151,
   "metadata": {},
   "outputs": [
    {
     "data": {
      "text/html": [
       "<div>\n",
       "<style scoped>\n",
       "    .dataframe tbody tr th:only-of-type {\n",
       "        vertical-align: middle;\n",
       "    }\n",
       "\n",
       "    .dataframe tbody tr th {\n",
       "        vertical-align: top;\n",
       "    }\n",
       "\n",
       "    .dataframe thead th {\n",
       "        text-align: right;\n",
       "    }\n",
       "</style>\n",
       "<table border=\"1\" class=\"dataframe\">\n",
       "  <thead>\n",
       "    <tr style=\"text-align: right;\">\n",
       "      <th></th>\n",
       "      <th>Purchases</th>\n",
       "      <th>Average Price</th>\n",
       "      <th>Total Price</th>\n",
       "      <th>Price per Person</th>\n",
       "    </tr>\n",
       "  </thead>\n",
       "  <tbody>\n",
       "    <tr>\n",
       "      <th>Female</th>\n",
       "      <td>113</td>\n",
       "      <td>3.203009</td>\n",
       "      <td>361.94</td>\n",
       "      <td>0</td>\n",
       "    </tr>\n",
       "    <tr>\n",
       "      <th>Male</th>\n",
       "      <td>652</td>\n",
       "      <td>3.017853</td>\n",
       "      <td>1967.64</td>\n",
       "      <td>0</td>\n",
       "    </tr>\n",
       "    <tr>\n",
       "      <th>Other / Non-Disclosed</th>\n",
       "      <td>15</td>\n",
       "      <td>3.346000</td>\n",
       "      <td>50.19</td>\n",
       "      <td>0</td>\n",
       "    </tr>\n",
       "  </tbody>\n",
       "</table>\n",
       "</div>"
      ],
      "text/plain": [
       "                       Purchases  Average Price  Total Price  Price per Person\n",
       "Female                       113       3.203009       361.94                 0\n",
       "Male                         652       3.017853      1967.64                 0\n",
       "Other / Non-Disclosed         15       3.346000        50.19                 0"
      ]
     },
     "execution_count": 151,
     "metadata": {},
     "output_type": "execute_result"
    }
   ],
   "source": [
    "# Show result \n",
    "gender_result1 = pd.DataFrame({'Purchases': count, 'Average Price': avg_price, 'Total Price': price_total, 'Price per Person':0})\n",
    "# gender_result1.sort_values(['count'], ascending = False).style.format({'avg_price':\"{:.2f}\"})\n",
    "gender_result1"
   ]
  },
  {
   "cell_type": "markdown",
   "metadata": {},
   "source": [
    "## Age Demographics"
   ]
  },
  {
   "cell_type": "markdown",
   "metadata": {},
   "source": [
    "* Establish bins for ages\n",
    "\n",
    "\n",
    "* Categorize the existing players using the age bins. Hint: use pd.cut()\n",
    "\n",
    "\n",
    "* Calculate the numbers and percentages by age group\n",
    "\n",
    "\n",
    "* Create a summary data frame to hold the results\n",
    "\n",
    "\n",
    "* Optional: round the percentage column to two decimal points\n",
    "\n",
    "\n",
    "* Display Age Demographics Table\n"
   ]
  },
  {
   "cell_type": "code",
   "execution_count": 156,
   "metadata": {},
   "outputs": [
    {
     "data": {
      "text/plain": [
       "0      18-21\n",
       "1      38-40\n",
       "2      22-25\n",
       "3      22-25\n",
       "4      22-25\n",
       "5      22-25\n",
       "6      34-37\n",
       "7      18-21\n",
       "8      22-25\n",
       "9      34-37\n",
       "10     22-25\n",
       "11     22-25\n",
       "12     18-21\n",
       "13     22-25\n",
       "14     34-37\n",
       "15     18-21\n",
       "16     18-21\n",
       "17     18-21\n",
       "18     22-25\n",
       "19     30-33\n",
       "20     18-21\n",
       "21     18-21\n",
       "22     38-40\n",
       "23     38-40\n",
       "24     30-33\n",
       "25     26-29\n",
       "26     10-13\n",
       "27       <10\n",
       "28     18-21\n",
       "29     22-25\n",
       "       ...  \n",
       "750    22-25\n",
       "751    10-13\n",
       "752    14-17\n",
       "753    34-37\n",
       "754    22-25\n",
       "755    10-13\n",
       "756    18-21\n",
       "757    18-21\n",
       "758    18-21\n",
       "759    22-25\n",
       "760    18-21\n",
       "761      >40\n",
       "762    26-29\n",
       "763    18-21\n",
       "764    18-21\n",
       "765    18-21\n",
       "766    22-25\n",
       "767      <10\n",
       "768    38-40\n",
       "769    14-17\n",
       "770    34-37\n",
       "771    14-17\n",
       "772    26-29\n",
       "773    18-21\n",
       "774    10-13\n",
       "775    18-21\n",
       "776    18-21\n",
       "777    18-21\n",
       "778      <10\n",
       "779    22-25\n",
       "Name: Age, Length: 780, dtype: category\n",
       "Categories (10, object): [<10 < 10-13 < 14-17 < 18-21 ... 30-33 < 34-37 < 38-40 < >40]"
      ]
     },
     "execution_count": 156,
     "metadata": {},
     "output_type": "execute_result"
    }
   ],
   "source": [
    "age_data = purchase_data_df[['SN','Age','Purchase ID','Price']]\n",
    "\n",
    "# Create the bins\n",
    "age_bins = [0, 9, 13, 17, 21, 25, 29, 33, 37, 40, 80]\n",
    "\n",
    "# Create the names for the four bins\n",
    "group_names = ['<10', '10-13', '14-17', '18-21', '22-25', '26-29', '30-33', '34-37', '38-40', '>40']\n",
    "\n",
    "# Show only the result of cut without the original table\n",
    "age_cut = pd.cut(age_data['Age'], age_bins, labels = group_names)\n",
    "age_cut\n",
    "# age_cut1 = pd.DataFrame(age_cut['ID','Age Bin'])\n",
    "# print(age_cut1).groupby['Age Bin']\n",
    "\n",
    "#### HELP how to count the number of players?  can't assign column names.age_cut = column['Age Bin']\n",
    "\n",
    "# Create GroupBy object\n",
    "# age_bin_data = age_cut.groupby(['Age Bin'])\n",
    "\n",
    "# Create a dataframe from the count of the Age column\n",
    "# age_bin_df = pd.DataFrame(age_bin_data['Age Bin'].count())\n",
    "\n",
    "# Rename Total column and Add Percentage column\n",
    "# age_bin_df.columns = ['Total Players']\n",
    "# age_bin_df[\"Percentage\"] = [round(((x/total_players)*100),2) for x in age_binned_df[\"Total Players\"]]\n",
    "# print(age_bin_df)\n"
   ]
  },
  {
   "cell_type": "markdown",
   "metadata": {},
   "source": [
    "## Purchasing Analysis (Age)"
   ]
  },
  {
   "cell_type": "markdown",
   "metadata": {},
   "source": [
    "* Bin the purchase_data data frame by age\n",
    "\n",
    "\n",
    "* Run basic calculations to obtain purchase count, avg. purchase price, avg. purchase total per person etc. in the table below\n",
    "\n",
    "\n",
    "* Create a summary data frame to hold the results\n",
    "\n",
    "\n",
    "* Optional: give the displayed data cleaner formatting\n",
    "\n",
    "\n",
    "* Display the summary data frame"
   ]
  },
  {
   "cell_type": "code",
   "execution_count": null,
   "metadata": {},
   "outputs": [],
   "source": [
    "# Find Total Purchase Count by Age Group\n",
    "# count_binned = pd.DataFrame(age_binned[\"Price\"].count())\n",
    "# count_binned.columns = [\"Purchase Count\"]\n",
    "# count_binned.reset_index(inplace=True)\n",
    "\n",
    "# Find Average Purchase Price by Age Group\n",
    "# average_binned = pd.DataFrame(round(age_binned[\"Price\"].mean(),2))\n",
    "# average_binned.columns = [\"Average Purchase\"]\n",
    "# average_binned.reset_index(inplace=True)\n",
    "\n",
    "# Find Total Amount spent by Age Group\n",
    "# sum_binned = pd.DataFrame(round(age_binned[\"Price\"].sum(),2))\n",
    "# sum_binned.columns = ['Total Spent']\n",
    "# sum_binned.reset_index(inplace=True)\n",
    "\n",
    "# Merge dfs\n",
    "# merged_bins = pd.merge(count_binned,average_binned,on=\"Age Group\")\n",
    "# merged_bins = pd.merge(merged_bins,sum_binned,on=\"Age Group\")\n",
    "\n",
    "# Add a Normalized Total column\n",
    "# total_sales = total_m_purchase + total_f_purchase + total_o_purchase\n",
    "# merged_bins[\"Normalized Total\"] = [round((x/total_sales),2) for x in merged_bins[\"Total Spent\"]]\n",
    "\n",
    "# merged_bins"
   ]
  },
  {
   "cell_type": "markdown",
   "metadata": {},
   "source": [
    "## Top Spenders"
   ]
  },
  {
   "cell_type": "markdown",
   "metadata": {},
   "source": [
    "* Run basic calculations to obtain the results in the table below\n",
    "\n",
    "\n",
    "* Create a summary data frame to hold the results\n",
    "\n",
    "\n",
    "* Sort the total purchase value column in descending order\n",
    "\n",
    "\n",
    "* Optional: give the displayed data cleaner formatting\n",
    "\n",
    "\n",
    "* Display a preview of the summary data frame\n",
    "\n"
   ]
  },
  {
   "cell_type": "code",
   "execution_count": 157,
   "metadata": {},
   "outputs": [
    {
     "data": {
      "text/html": [
       "<div>\n",
       "<style scoped>\n",
       "    .dataframe tbody tr th:only-of-type {\n",
       "        vertical-align: middle;\n",
       "    }\n",
       "\n",
       "    .dataframe tbody tr th {\n",
       "        vertical-align: top;\n",
       "    }\n",
       "\n",
       "    .dataframe thead th {\n",
       "        text-align: right;\n",
       "    }\n",
       "</style>\n",
       "<table border=\"1\" class=\"dataframe\">\n",
       "  <thead>\n",
       "    <tr style=\"text-align: right;\">\n",
       "      <th></th>\n",
       "      <th>SN</th>\n",
       "      <th>Total Purchases</th>\n",
       "      <th>Average Purchase</th>\n",
       "      <th>Total Spent</th>\n",
       "    </tr>\n",
       "  </thead>\n",
       "  <tbody>\n",
       "    <tr>\n",
       "      <th>0</th>\n",
       "      <td>Lisosia93</td>\n",
       "      <td>5</td>\n",
       "      <td>3.79</td>\n",
       "      <td>18.96</td>\n",
       "    </tr>\n",
       "    <tr>\n",
       "      <th>1</th>\n",
       "      <td>Idastidru52</td>\n",
       "      <td>4</td>\n",
       "      <td>3.86</td>\n",
       "      <td>15.45</td>\n",
       "    </tr>\n",
       "    <tr>\n",
       "      <th>2</th>\n",
       "      <td>Chamjask73</td>\n",
       "      <td>3</td>\n",
       "      <td>4.61</td>\n",
       "      <td>13.83</td>\n",
       "    </tr>\n",
       "    <tr>\n",
       "      <th>3</th>\n",
       "      <td>Iral74</td>\n",
       "      <td>4</td>\n",
       "      <td>3.40</td>\n",
       "      <td>13.62</td>\n",
       "    </tr>\n",
       "    <tr>\n",
       "      <th>4</th>\n",
       "      <td>Iskadarya95</td>\n",
       "      <td>3</td>\n",
       "      <td>4.37</td>\n",
       "      <td>13.10</td>\n",
       "    </tr>\n",
       "  </tbody>\n",
       "</table>\n",
       "</div>"
      ],
      "text/plain": [
       "            SN  Total Purchases  Average Purchase  Total Spent\n",
       "0    Lisosia93                5              3.79        18.96\n",
       "1  Idastidru52                4              3.86        15.45\n",
       "2   Chamjask73                3              4.61        13.83\n",
       "3       Iral74                4              3.40        13.62\n",
       "4  Iskadarya95                3              4.37        13.10"
      ]
     },
     "execution_count": 157,
     "metadata": {},
     "output_type": "execute_result"
    }
   ],
   "source": [
    "# Group by Screenname \n",
    "by_sn = purchase_data_df.groupby([\"SN\"])\n",
    "\n",
    "# Find the sum of the price column per screenname\n",
    "user_spent = pd.DataFrame(by_sn[\"Price\"].sum())\n",
    "user_count = pd.DataFrame(by_sn[\"SN\"].count())\n",
    "\n",
    "user_spent.columns = [\"Total Spent\"]\n",
    "user_count.columns = [\"Total Purchases\"]\n",
    "\n",
    "user_spent.reset_index(inplace=True)\n",
    "user_count.reset_index(inplace=True)\n",
    "\n",
    "# Merge the two dfs together\n",
    "top_five = pd.merge(user_spent,user_count,on=\"SN\")\n",
    "\n",
    "# Sort the values by Total Spent\n",
    "top_five = top_five.sort_values(\"Total Spent\",ascending=False)\n",
    "\n",
    "# Cut the list to the top five\n",
    "top_five = top_five.head()\n",
    "\n",
    "# Add a column for Average Purchase\n",
    "top_five[\"Average Purchase\"] = round((top_five[\"Total Spent\"] / top_five[\"Total Purchases\"]),2)\n",
    "\n",
    "# Reorder columns, reset index\n",
    "top5_spenders = top_five[[\"SN\",\"Total Purchases\",\"Average Purchase\",\"Total Spent\"]]\n",
    "top5_spenders.reset_index(inplace=True,drop=True)\n",
    "\n",
    "top5_spenders"
   ]
  },
  {
   "cell_type": "markdown",
   "metadata": {},
   "source": [
    "## Most Popular Items"
   ]
  },
  {
   "cell_type": "markdown",
   "metadata": {},
   "source": [
    "* Retrieve the Item ID, Item Name, and Item Price columns\n",
    "\n",
    "\n",
    "* Group by Item ID and Item Name. Perform calculations to obtain purchase count, item price, and total purchase value\n",
    "\n",
    "\n",
    "* Create a summary data frame to hold the results\n",
    "\n",
    "\n",
    "* Sort the purchase count column in descending order\n",
    "\n",
    "\n",
    "* Optional: give the displayed data cleaner formatting\n",
    "\n",
    "\n",
    "* Display a preview of the summary data frame\n",
    "\n"
   ]
  },
  {
   "cell_type": "code",
   "execution_count": 158,
   "metadata": {},
   "outputs": [
    {
     "data": {
      "text/html": [
       "<div>\n",
       "<style scoped>\n",
       "    .dataframe tbody tr th:only-of-type {\n",
       "        vertical-align: middle;\n",
       "    }\n",
       "\n",
       "    .dataframe tbody tr th {\n",
       "        vertical-align: top;\n",
       "    }\n",
       "\n",
       "    .dataframe thead th {\n",
       "        text-align: right;\n",
       "    }\n",
       "</style>\n",
       "<table border=\"1\" class=\"dataframe\">\n",
       "  <thead>\n",
       "    <tr style=\"text-align: right;\">\n",
       "      <th></th>\n",
       "      <th>Item ID</th>\n",
       "      <th>Item Name</th>\n",
       "      <th>Number Sold</th>\n",
       "      <th>Price (Avg)</th>\n",
       "      <th>Total Value</th>\n",
       "    </tr>\n",
       "  </thead>\n",
       "  <tbody>\n",
       "    <tr>\n",
       "      <th>0</th>\n",
       "      <td>101</td>\n",
       "      <td>Final Critic</td>\n",
       "      <td>13</td>\n",
       "      <td>4.61</td>\n",
       "      <td>59.99</td>\n",
       "    </tr>\n",
       "    <tr>\n",
       "      <th>1</th>\n",
       "      <td>178</td>\n",
       "      <td>Oathbreaker, Last Hope of the Breaking Storm</td>\n",
       "      <td>12</td>\n",
       "      <td>4.23</td>\n",
       "      <td>50.76</td>\n",
       "    </tr>\n",
       "    <tr>\n",
       "      <th>2</th>\n",
       "      <td>141</td>\n",
       "      <td>Persuasion</td>\n",
       "      <td>9</td>\n",
       "      <td>3.22</td>\n",
       "      <td>28.99</td>\n",
       "    </tr>\n",
       "    <tr>\n",
       "      <th>3</th>\n",
       "      <td>82</td>\n",
       "      <td>Nirvana</td>\n",
       "      <td>9</td>\n",
       "      <td>4.90</td>\n",
       "      <td>44.10</td>\n",
       "    </tr>\n",
       "    <tr>\n",
       "      <th>4</th>\n",
       "      <td>108</td>\n",
       "      <td>Extraction, Quickblade Of Trembling Hands</td>\n",
       "      <td>9</td>\n",
       "      <td>3.53</td>\n",
       "      <td>31.77</td>\n",
       "    </tr>\n",
       "  </tbody>\n",
       "</table>\n",
       "</div>"
      ],
      "text/plain": [
       "   Item ID                                     Item Name  Number Sold  \\\n",
       "0      101                                  Final Critic           13   \n",
       "1      178  Oathbreaker, Last Hope of the Breaking Storm           12   \n",
       "2      141                                    Persuasion            9   \n",
       "3       82                                       Nirvana            9   \n",
       "4      108     Extraction, Quickblade Of Trembling Hands            9   \n",
       "\n",
       "   Price (Avg)  Total Value  \n",
       "0         4.61        59.99  \n",
       "1         4.23        50.76  \n",
       "2         3.22        28.99  \n",
       "3         4.90        44.10  \n",
       "4         3.53        31.77  "
      ]
     },
     "execution_count": 158,
     "metadata": {},
     "output_type": "execute_result"
    }
   ],
   "source": [
    "# Group by Item Name\n",
    "by_item = purchase_data_df.groupby([\"Item Name\"])\n",
    "\n",
    "# Create dfs with desired metrics to merge together\n",
    "# Count by Item ID to get Number Sold\n",
    "number_sold = pd.DataFrame(by_item[\"Item ID\"].count())\n",
    "number_sold.columns = [\"Number Sold\"]\n",
    "number_sold.reset_index(inplace=True)\n",
    "\n",
    "# Take the average of the price column for Item Price\n",
    "# (Some items are sold at different prices)\n",
    "item_price = pd.DataFrame(round(by_item[\"Price\"].mean(),2))\n",
    "item_price.columns = [\"Price (Avg)\"]\n",
    "item_price.reset_index(inplace=True)\n",
    "\n",
    "# Take the sum of the Price column for the total revenue per item\n",
    "total_value = pd.DataFrame(by_item[\"Price\"].sum())\n",
    "total_value.columns = [\"Total Value\"]\n",
    "total_value.reset_index(inplace=True)\n",
    "\n",
    "# Take the max of the Item ID column to pull the Item ID\n",
    "item_id = pd.DataFrame(by_item[\"Item ID\"].max())\n",
    "item_id.reset_index(inplace=True)\n",
    "\n",
    "# Merge the dfs together\n",
    "merged_byitem = pd.merge(number_sold,item_price,on=\"Item Name\")\n",
    "merged_byitem = pd.merge(merged_byitem,total_value,on=\"Item Name\")\n",
    "merged_byitem = pd.merge(merged_byitem,item_id,on=\"Item Name\")\n",
    "\n",
    "# Reorder columns\n",
    "merged_byitem = merged_byitem[['Item ID', 'Item Name', 'Number Sold', 'Price (Avg)', 'Total Value']]\n",
    "\n",
    "# Sort by Number Sold to find most popular items\n",
    "top5_items = merged_byitem.sort_values(\"Number Sold\",ascending=False)\n",
    "\n",
    "# Cut to Top Five, reset index\n",
    "top5_items = top5_items.head()\n",
    "top5_items.reset_index(inplace=True,drop=True)\n",
    "top5_items"
   ]
  },
  {
   "cell_type": "markdown",
   "metadata": {},
   "source": [
    "## Most Profitable Items"
   ]
  },
  {
   "cell_type": "markdown",
   "metadata": {},
   "source": [
    "* Sort the above table by total purchase value in descending order\n",
    "\n",
    "\n",
    "* Optional: give the displayed data cleaner formatting\n",
    "\n",
    "\n",
    "* Display a preview of the data frame\n",
    "\n"
   ]
  },
  {
   "cell_type": "code",
   "execution_count": 159,
   "metadata": {
    "scrolled": true
   },
   "outputs": [
    {
     "data": {
      "text/html": [
       "<div>\n",
       "<style scoped>\n",
       "    .dataframe tbody tr th:only-of-type {\n",
       "        vertical-align: middle;\n",
       "    }\n",
       "\n",
       "    .dataframe tbody tr th {\n",
       "        vertical-align: top;\n",
       "    }\n",
       "\n",
       "    .dataframe thead th {\n",
       "        text-align: right;\n",
       "    }\n",
       "</style>\n",
       "<table border=\"1\" class=\"dataframe\">\n",
       "  <thead>\n",
       "    <tr style=\"text-align: right;\">\n",
       "      <th></th>\n",
       "      <th>Item ID</th>\n",
       "      <th>Item Name</th>\n",
       "      <th>Number Sold</th>\n",
       "      <th>Price (Avg)</th>\n",
       "      <th>Total Value</th>\n",
       "    </tr>\n",
       "  </thead>\n",
       "  <tbody>\n",
       "    <tr>\n",
       "      <th>56</th>\n",
       "      <td>101</td>\n",
       "      <td>Final Critic</td>\n",
       "      <td>13</td>\n",
       "      <td>4.61</td>\n",
       "      <td>59.99</td>\n",
       "    </tr>\n",
       "    <tr>\n",
       "      <th>93</th>\n",
       "      <td>178</td>\n",
       "      <td>Oathbreaker, Last Hope of the Breaking Storm</td>\n",
       "      <td>12</td>\n",
       "      <td>4.23</td>\n",
       "      <td>50.76</td>\n",
       "    </tr>\n",
       "    <tr>\n",
       "      <th>92</th>\n",
       "      <td>82</td>\n",
       "      <td>Nirvana</td>\n",
       "      <td>9</td>\n",
       "      <td>4.90</td>\n",
       "      <td>44.10</td>\n",
       "    </tr>\n",
       "    <tr>\n",
       "      <th>55</th>\n",
       "      <td>145</td>\n",
       "      <td>Fiery Glass Crusader</td>\n",
       "      <td>9</td>\n",
       "      <td>4.58</td>\n",
       "      <td>41.22</td>\n",
       "    </tr>\n",
       "    <tr>\n",
       "      <th>125</th>\n",
       "      <td>103</td>\n",
       "      <td>Singed Scalpel</td>\n",
       "      <td>8</td>\n",
       "      <td>4.35</td>\n",
       "      <td>34.80</td>\n",
       "    </tr>\n",
       "  </tbody>\n",
       "</table>\n",
       "</div>"
      ],
      "text/plain": [
       "     Item ID                                     Item Name  Number Sold  \\\n",
       "56       101                                  Final Critic           13   \n",
       "93       178  Oathbreaker, Last Hope of the Breaking Storm           12   \n",
       "92        82                                       Nirvana            9   \n",
       "55       145                          Fiery Glass Crusader            9   \n",
       "125      103                                Singed Scalpel            8   \n",
       "\n",
       "     Price (Avg)  Total Value  \n",
       "56          4.61        59.99  \n",
       "93          4.23        50.76  \n",
       "92          4.90        44.10  \n",
       "55          4.58        41.22  \n",
       "125         4.35        34.80  "
      ]
     },
     "execution_count": 159,
     "metadata": {},
     "output_type": "execute_result"
    }
   ],
   "source": [
    "# Re-sort previous df by Total Value to get most profitable games\n",
    "top5_profits = merged_byitem.sort_values(\"Total Value\",ascending=False)\n",
    "\n",
    "# Cut to Top Five\n",
    "top5_profits = top5_profits.head()\n",
    "\n",
    "top5_profits"
   ]
  },
  {
   "cell_type": "code",
   "execution_count": null,
   "metadata": {},
   "outputs": [],
   "source": []
  }
 ],
 "metadata": {
  "anaconda-cloud": {},
  "kernel_info": {
   "name": "python3"
  },
  "kernelspec": {
   "display_name": "Python 3",
   "language": "python",
   "name": "python3"
  },
  "language_info": {
   "codemirror_mode": {
    "name": "ipython",
    "version": 3
   },
   "file_extension": ".py",
   "mimetype": "text/x-python",
   "name": "python",
   "nbconvert_exporter": "python",
   "pygments_lexer": "ipython3",
   "version": "3.7.3"
  },
  "nteract": {
   "version": "0.2.0"
  }
 },
 "nbformat": 4,
 "nbformat_minor": 2
}
